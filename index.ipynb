{
 "cells": [
  {
   "cell_type": "markdown",
   "metadata": {},
   "source": [
    "# Statistical Distributions - Introduction\n",
    "\n",
    "## Introduction\n",
    "In this section, you'll learn about different probability distributions!\n",
    "\n",
    "## It's all Stats!\n",
    "\n",
    "You've already seen the value of descriptive statistics when doing exploratory data analysis. In this section, we're going to dive deeper into a range of statistical concepts. We're going to start by looking at discrete and continuous distributions and how you can use stem and leaf plots for visualizing distributions.\n",
    "\n",
    "We're then going to look at a range of techniques for representing distributions - the Probability Mass Function, the Cumulative Distribution Function, and the Probability Density Function.\n",
    "\n",
    "We're then going to dig a little deeper into the Normal/Gaussian distribution and the Standard Normal Distribution, and we'll introduce the use cases for z-tables and p-values for describing statistical significance. We'll discuss the \"one-sample z test\", the most basic type of hypothesis test, before introducing the concepts of skewness and kurtosis that can be used to quantify how \"un-normal\" a given distribution is.\n",
    "\n",
    "In the Appendix to this Module, we'll introduce some additional distribution functions, like the uniform, Poisson, and exponential distributions, and use them to solve practical problems. \n",
    "\n",
    "## Summary\n",
    "\n",
    "In this section, we're going to take a deeper dive into a range of foundational statistical concepts that we'll need as we start to dig into machine learning later in the course."
   ]
  }
 ],
 "metadata": {
  "kernelspec": {
   "display_name": "Python 3",
   "language": "python",
   "name": "python3"
  },
  "language_info": {
   "codemirror_mode": {
    "name": "ipython",
    "version": 3
   },
   "file_extension": ".py",
   "mimetype": "text/x-python",
   "name": "python",
   "nbconvert_exporter": "python",
   "pygments_lexer": "ipython3",
   "version": "3.6.9"
  },
  "toc": {
   "base_numbering": 1,
   "nav_menu": {},
   "number_sections": true,
   "sideBar": true,
   "skip_h1_title": false,
   "title_cell": "Table of Contents",
   "title_sidebar": "Contents",
   "toc_cell": false,
   "toc_position": {},
   "toc_section_display": true,
   "toc_window_display": false
  }
 },
 "nbformat": 4,
 "nbformat_minor": 2
}
